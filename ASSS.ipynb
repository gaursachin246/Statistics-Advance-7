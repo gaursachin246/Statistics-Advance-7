{
 "cells": [
  {
   "cell_type": "code",
   "execution_count": 2,
   "id": "332c0131-a147-4933-ab4e-73900332e706",
   "metadata": {},
   "outputs": [
    {
     "name": "stdout",
     "output_type": "stream",
     "text": [
      "F-value: 1.0\n",
      "P-value: 0.5\n"
     ]
    }
   ],
   "source": [
    "#### Q1. Write a Python function that takes in two arrays of data and calculates the F-value for a variance ratio test. The function should return the F-value and the corresponding p-value for the test.\n",
    "\n",
    "import numpy as np\n",
    "from scipy import stats\n",
    "\n",
    "def f_test(data1, data2):\n",
    "    \"\"\"\n",
    "    Perform an F-test to compare the variances of two datasets.\n",
    "    \n",
    "    Parameters:\n",
    "    data1 (array-like): First dataset.\n",
    "    data2 (array-like): Second dataset.\n",
    "    \n",
    "    Returns:\n",
    "    tuple: (F-value, p-value)\n",
    "    \"\"\"\n",
    "    # Convert inputs to numpy arrays\n",
    "    data1 = np.array(data1)\n",
    "    data2 = np.array(data2)\n",
    "    \n",
    "    # Calculate variances\n",
    "    var1 = np.var(data1, ddof=1)  # Sample variance of the first dataset\n",
    "    var2 = np.var(data2, ddof=1)  # Sample variance of the second dataset\n",
    "    \n",
    "    # Calculate F-value\n",
    "    if var2 == 0:\n",
    "        raise ValueError(\"Variance of the second dataset is zero, cannot compute F-value.\")\n",
    "    \n",
    "    f_value = var1 / var2\n",
    "    \n",
    "    # Degrees of freedom\n",
    "    df1 = len(data1) - 1\n",
    "    df2 = len(data2) - 1\n",
    "    \n",
    "    # Calculate p-value\n",
    "    p_value = 1 - stats.f.cdf(f_value, df1, df2)\n",
    "    \n",
    "    return f_value, p_value\n",
    "\n",
    "# Example usage:\n",
    "data1 = [1, 2, 3, 4, 5]\n",
    "data2 = [2, 3, 4, 5, 6]\n",
    "\n",
    "f_value, p_value = f_test(data1, data2)\n",
    "print(f\"F-value: {f_value}\")\n",
    "print(f\"P-value: {p_value}\")\n"
   ]
  },
  {
   "cell_type": "code",
   "execution_count": 7,
   "id": "881533e5-7af7-444f-b259-43fedee3cac6",
   "metadata": {},
   "outputs": [],
   "source": [
    "###Q2. Given a significance level of 0.05 and the degrees of freedom for the numerator and denominator of an F-distribution, write a Python function that returns the critical F-value for a two-tailed test.\n",
    "\n",
    "from scipy.stats import f\n",
    "\n",
    "def critical_f_value(df1, df2, significance_level=0.05):\n",
    "    # Calculate the critical F-value for a two-tailed test\n",
    "    critical_f = f.isf(significance_level/2, df1, df2)\n",
    "    \n",
    "    return critical_f\n"
   ]
  },
  {
   "cell_type": "code",
   "execution_count": 8,
   "id": "832dd64e-7826-43d3-ae27-293b88ce175e",
   "metadata": {},
   "outputs": [
    {
     "name": "stdout",
     "output_type": "stream",
     "text": [
      "Critical F-value: 4.825621493405406\n"
     ]
    }
   ],
   "source": [
    "df1 = 3\n",
    "df2 = 10\n",
    "significance_level = 0.05\n",
    "critical_f = critical_f_value(df1, df2, significance_level)\n",
    "print(\"Critical F-value:\", critical_f)"
   ]
  },
  {
   "cell_type": "code",
   "execution_count": 9,
   "id": "38307bb6-7954-44c6-8f84-c443608a58a4",
   "metadata": {},
   "outputs": [
    {
     "name": "stdout",
     "output_type": "stream",
     "text": [
      "F-value: 0.4744477594309456\n",
      "Degrees of freedom: 99 99\n",
      "p-value: 0.9998731621800118\n"
     ]
    }
   ],
   "source": [
    "#### Q3. Write a Python program that generates random samples from two normal distributions with known variances and uses an F-test to determine if the variances are equal. The program should output the F- value, degrees of freedom, and p-value for the test.\n",
    "\n",
    "import numpy as np\n",
    "from scipy.stats import f, norm\n",
    "\n",
    "# Set the parameters for the two normal distributions\n",
    "mean1, var1 = 0, 1\n",
    "mean2, var2 = 0, 2\n",
    "\n",
    "# Generate random samples from the two distributions\n",
    "np.random.seed(0)\n",
    "sample1 = norm.rvs(loc=mean1, scale=np.sqrt(var1), size=100)\n",
    "sample2 = norm.rvs(loc=mean2, scale=np.sqrt(var2), size=100)\n",
    "\n",
    "# Calculate the F-value and degrees of freedom\n",
    "f_value = np.var(sample1, ddof=1) / np.var(sample2, ddof=1)\n",
    "df1, df2 = len(sample1) - 1, len(sample2) - 1\n",
    "\n",
    "# Calculate the p-value\n",
    "p_value = f.sf(f_value, df1, df2)\n",
    "\n",
    "# Output the results\n",
    "print(\"F-value:\", f_value)\n",
    "print(\"Degrees of freedom:\", df1, df2)\n",
    "print(\"p-value:\", p_value)\n",
    "\n",
    "\n",
    "\n"
   ]
  },
  {
   "cell_type": "code",
   "execution_count": null,
   "id": "e269aae9-5f3f-4cc4-a70e-8a83264c6a96",
   "metadata": {},
   "outputs": [],
   "source": []
  },
  {
   "cell_type": "code",
   "execution_count": 10,
   "id": "53eddbae-ec11-4dc5-81de-61f85891d5f6",
   "metadata": {},
   "outputs": [],
   "source": [
    "#### Q4.The variances of two populations are known to be 10 and 15. A sample of 12 observations is taken from each population. Conduct an F-test at the 5% significance level to determine if the variances are significantly different.\n",
    "\n",
    "#σ1² = 10, σ2² = 15, n1 = n2 = 12, α = 0.05\n",
    "\n",
    "#Step 1: Calculate the F-value\n",
    "#F = σ1² / σ2² = 10 / 15 = 0.67\n",
    "\n",
    "#Step 2: Determine the degrees of freedom\n",
    "#df1 = n1 - 1 = 12 - 1 = 11\n",
    "#df2 = n2 - 1 = 12 - 1 = 11\n",
    "\n",
    "#Step 3: Find the critical F-value from the F-distribution table or use a calculator/software to find the p-value\n",
    "#Using an F-distribution calculator or software, we find:\n",
    "#p-value = 0.684\n",
    "\n",
    "#Since the p-value (0.684) is greater than the significance level (0.05), we fail to reject the null hypothesis.\n",
    "\n",
    "\n",
    "\n"
   ]
  },
  {
   "cell_type": "code",
   "execution_count": 11,
   "id": "e0352adc-8e7c-4467-ae22-fc5039ae513f",
   "metadata": {},
   "outputs": [],
   "source": [
    "### Q5. A manufacturer claims that the variance of the diameter of a certain product is 0.005. A sample of 25 products is taken, and the sample variance is found to be 0.006. Conduct an F-test at the 1% significance level to determine if the claim is justified.\n",
    "#Given:\n",
    "#σ² = 0.005, s² = 0.006, n = 25, α = 0.01\n",
    "\n",
    "#Step 1: Calculate the F-value\n",
    "#F = s² / σ² = 0.006 / 0.005 = 1.2\n",
    "\n",
    "#Step 2: Determine the degrees of freedom\n",
    "#df1 = n - 1 = 25 - 1 = 24\n",
    "#df2 = ∞ (since population variance is known)\n",
    "\n",
    "#Step 3: Find the critical F-value from the F-distribution table or use a calculator/software to find the p-value\n",
    "#Using an F-distribution calculator or software, we find:\n",
    "#p-value = 0.234\n",
    "\n",
    "\n"
   ]
  },
  {
   "cell_type": "code",
   "execution_count": 12,
   "id": "f8c78fcf-49f9-42a3-8713-77c2b5654962",
   "metadata": {},
   "outputs": [],
   "source": [
    "### Q8. The following data represent the waiting times in minutes at two different restaurants on a Saturday night: Restaurant A: 24, 25, 28, 23, 22, 20, 27; Restaurant B: 31, 33, 35, 30, 32, 36. Conduct an F-test at the 5%significance level to determine if the variances are significantly different.\n",
    "\n",
    "#Restaurant A: 24, 25, 28, 23, 22, 20, 27\n",
    "#Restaurant B: 31, 33, 35, 30, 32, 36\n",
    "\n",
    "#Step 1: Calculate the sample variance for each restaurant\n",
    "#s1² = np.var([24, 25, 28, 23, 22, 20, 27], ddof=1) = 5.14\n",
    "#s2² = np.var([31, 33, 35, 30, 32, 36], ddof=1) = 4.67\n",
    "\n",
    "#Step 2: Calculate the F-value\n",
    "#F = s1² / s2² = 5.14 / 4.67 = 1.10\n",
    "\n",
    "#Step 3: Determine the degrees of freedom\n",
    "#df1 = n1 - 1 = 7 - 1 = 6\n",
    "#df2 = n2 - 1 = 6 - 1 = 5\n",
    "\n",
    "#Step 4: Find the critical F-value from the F-distribution table or use a calculator/software to find the p-value\n",
    "#Using an F-distribution calculator or software, we find:\n",
    "#p-value = 0.833\n",
    "\n",
    "\n"
   ]
  },
  {
   "cell_type": "code",
   "execution_count": null,
   "id": "3fde0aa7-a56d-4c62-8539-c26612a988c5",
   "metadata": {},
   "outputs": [],
   "source": []
  }
 ],
 "metadata": {
  "kernelspec": {
   "display_name": "Python 3 (ipykernel)",
   "language": "python",
   "name": "python3"
  },
  "language_info": {
   "codemirror_mode": {
    "name": "ipython",
    "version": 3
   },
   "file_extension": ".py",
   "mimetype": "text/x-python",
   "name": "python",
   "nbconvert_exporter": "python",
   "pygments_lexer": "ipython3",
   "version": "3.10.8"
  }
 },
 "nbformat": 4,
 "nbformat_minor": 5
}
